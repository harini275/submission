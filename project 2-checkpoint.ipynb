{
 "cells": [
  {
   "cell_type": "code",
   "execution_count": 1,
   "id": "d6f58316",
   "metadata": {},
   "outputs": [],
   "source": [
    "#Inputs\n",
    "E = {0,2,4,6,8}\n",
    "N = {1,2,3,4,5}"
   ]
  },
  {
   "cell_type": "code",
   "execution_count": 7,
   "id": "c089405d",
   "metadata": {},
   "outputs": [
    {
     "name": "stdout",
     "output_type": "stream",
     "text": [
      "Union: {0, 1, 2, 3, 4, 5, 6, 8}\n"
     ]
    }
   ],
   "source": [
    "# Union\n",
    "U_result = E.union(N)\n",
    "print(\"Union:\",U_result)\n"
   ]
  },
  {
   "cell_type": "code",
   "execution_count": 8,
   "id": "2f861e4b",
   "metadata": {},
   "outputs": [
    {
     "name": "stdout",
     "output_type": "stream",
     "text": [
      "Intersection: {2, 4}\n"
     ]
    }
   ],
   "source": [
    "# Intersection \n",
    "I_result = E.intersection(N)\n",
    "print(\"Intersection:\",I_result)"
   ]
  },
  {
   "cell_type": "code",
   "execution_count": 9,
   "id": "89dfd8cf",
   "metadata": {},
   "outputs": [
    {
     "name": "stdout",
     "output_type": "stream",
     "text": [
      "Difference: {0, 8, 6}\n"
     ]
    }
   ],
   "source": [
    "# Difference\n",
    "diff_result = E.difference(N)\n",
    "print(\"Difference:\",diff_result)\n"
   ]
  },
  {
   "cell_type": "code",
   "execution_count": 10,
   "id": "a47dea17",
   "metadata": {},
   "outputs": [
    {
     "name": "stdout",
     "output_type": "stream",
     "text": [
      "Symmetric Difference: {0, 1, 3, 5, 6, 8}\n"
     ]
    }
   ],
   "source": [
    "# Symmetric difference \n",
    "symmetric_difference = E.symmetric_difference(N)\n",
    "print(\"Symmetric Difference:\",symmetric_difference)"
   ]
  },
  {
   "cell_type": "code",
   "execution_count": null,
   "id": "e6981974",
   "metadata": {},
   "outputs": [],
   "source": []
  }
 ],
 "metadata": {
  "kernelspec": {
   "display_name": "Python 3 (ipykernel)",
   "language": "python",
   "name": "python3"
  },
  "language_info": {
   "codemirror_mode": {
    "name": "ipython",
    "version": 3
   },
   "file_extension": ".py",
   "mimetype": "text/x-python",
   "name": "python",
   "nbconvert_exporter": "python",
   "pygments_lexer": "ipython3",
   "version": "3.9.12"
  }
 },
 "nbformat": 4,
 "nbformat_minor": 5
}
